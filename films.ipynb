{
 "cells": [
  {
   "cell_type": "code",
   "execution_count": 3,
   "metadata": {},
   "outputs": [],
   "source": [
    "import nltk\n",
    "import numpy as np\n",
    "import random\n",
    "import string # to process standard python strings\n",
    "from nltk.corpus import stopwords\n",
    "from nltk.corpus import wordnet\n",
    "from sklearn.feature_extraction.text import TfidfVectorizer\n",
    "from sklearn.metrics.pairwise import cosine_similarity\n",
    "import pandas as pd\n",
    "import warnings\n",
    "warnings.filterwarnings(\"ignore\")\n",
    "#nltk.download()\n"
   ]
  },
  {
   "cell_type": "code",
   "execution_count": 4,
   "metadata": {},
   "outputs": [],
   "source": [
    "d = pd.read_csv('movielist.csv')\n",
    "\n",
    "stop_words = set(stopwords.words('english')) \n",
    "porterStemmer = nltk.stem.PorterStemmer()\n",
    "lemmer = nltk.stem.WordNetLemmatizer()\n",
    "\n",
    "\n",
    "def LemTokens(tokens):\n",
    "    tokens = [porterStemmer.stem(token) for token in tokens]\n",
    "    l = [lemmer.lemmatize(token) for token in tokens]\n",
    "    return l\n",
    "remove_punct_dict = dict((ord(punct), None) for punct in string.punctuation)\n",
    "def LemNormalize(text):\n",
    "    text = text.lower()\n",
    "    text = text.translate(remove_punct_dict)\n",
    "    l = nltk.word_tokenize(text)\n",
    "    return LemTokens(l)\n",
    "\n",
    "\n",
    "vectorizer = TfidfVectorizer(tokenizer=LemNormalize, stop_words='english')\n",
    "\n",
    "\n",
    "GREETING_INPUTS = (\"hello\", \"hi\", \"greetings\", \"sup\", \"what's up\",\"hey\")\n",
    "GREETING_RESPONSES = [\"hi\", \"hey\", \"hi there\", \"hello\", \"I am glad! You are talking to me\"]\n",
    "def greeting(sentence):\n",
    " \n",
    "    for word in sentence.split():\n",
    "        if word.lower() in GREETING_INPUTS:\n",
    "            return random.choice(GREETING_RESPONSES)"
   ]
  },
  {
   "cell_type": "code",
   "execution_count": 5,
   "metadata": {},
   "outputs": [],
   "source": [
    "\n",
    "def cosine_sim(text1, text2):\n",
    "    tfidf = vectorizer.fit_transform([text1, text2])\n",
    "    return ((tfidf * tfidf.T).A)[0,1]\n",
    "\n",
    "def response(user_response):\n",
    "    bot_response=''\n",
    "    #user_response = LemNormalize(x)\n",
    "    filtered_sentence = [w for w in user_response if not w in stop_words] \n",
    "    most_possible = []\n",
    "    for x,y in zip(d['overview'],d['title']):\n",
    "#        for w in range(len(filtered_sentence)):\n",
    "#            synonims = set()\n",
    "#            for syn in wordnet.synsets(filtered_sentence(w)):\n",
    "#                for name in syn.lemma_names():\n",
    "#                    synonims.add(name)\n",
    "#            for s in synonims:\n",
    "#                filtered_sentence[w] = s\n",
    "#                sim = cosine_sim(' '.join([str(elem) for elem in filtered_sentence]),x)\n",
    "                \n",
    "        sim = cosine_sim(user_response,x)\n",
    "#       print(sim)\n",
    "        if sim>0:\n",
    "            most_possible.append((sim, y))\n",
    "            \n",
    "    most_possible = sorted(most_possible)\n",
    "    return most_possible[:3]\n",
    "\n"
   ]
  },
  {
   "cell_type": "code",
   "execution_count": null,
   "metadata": {},
   "outputs": [
    {
     "name": "stdout",
     "output_type": "stream",
     "text": [
      "Bot: Give description about movie. If you want to exit, type Bye!\n",
      "open\n",
      "Bot: Withnail & I, The Cement Garden, Scream of Stone, \n",
      "Can I help with any other film?\n"
     ]
    }
   ],
   "source": [
    "flag=True\n",
    "print(\"Bot: Give description about movie. If you want to exit, type Bye!\")\n",
    "while(flag==True):\n",
    "    user_response = input()\n",
    "    user_response=user_response.lower()\n",
    "    if(user_response!='bye' or user_response!='no'):\n",
    "        if(user_response=='thanks' or user_response=='thank you' ):\n",
    "            flag=False\n",
    "            print(\"Bot: You are welcome..\")\n",
    "        else:\n",
    "            if(greeting(user_response)!=None):\n",
    "                print(\"Bot: \"+greeting(user_response))\n",
    "            else:\n",
    "                print(\"Bot: \",end=\"\")\n",
    "                l = response(user_response)\n",
    "                for film in l:\n",
    "                    print(film[1],end =\", \"),\n",
    "                print(\"\")\n",
    "                print(\"Can I help with any other film?\")\n",
    "    else:\n",
    "        flag=False\n",
    "        print(\"Bot: Bye!\")\n"
   ]
  },
  {
   "cell_type": "code",
   "execution_count": null,
   "metadata": {},
   "outputs": [],
   "source": []
  },
  {
   "cell_type": "code",
   "execution_count": null,
   "metadata": {},
   "outputs": [],
   "source": []
  }
 ],
 "metadata": {
  "kernelspec": {
   "display_name": "Python 3",
   "language": "python",
   "name": "python3"
  },
  "language_info": {
   "codemirror_mode": {
    "name": "ipython",
    "version": 3
   },
   "file_extension": ".py",
   "mimetype": "text/x-python",
   "name": "python",
   "nbconvert_exporter": "python",
   "pygments_lexer": "ipython3",
   "version": "3.6.7"
  }
 },
 "nbformat": 4,
 "nbformat_minor": 2
}
